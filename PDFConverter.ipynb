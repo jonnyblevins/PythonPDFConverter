{
 "cells": [
  {
   "cell_type": "code",
   "execution_count": 2,
   "metadata": {},
   "outputs": [
    {
     "name": "stderr",
     "output_type": "stream",
     "text": [
      "[INFO] Start to convert JRBResume.pdf\n",
      "[INFO] \u001b[1;36m[1/4] Opening document...\u001b[0m\n",
      "[INFO] \u001b[1;36m[2/4] Analyzing document...\u001b[0m\n",
      "[INFO] \u001b[1;36m[3/4] Parsing pages...\u001b[0m\n",
      "[INFO] (1/3) Page 1\n",
      "[INFO] (2/3) Page 2\n",
      "[INFO] (3/3) Page 3\n",
      "[INFO] \u001b[1;36m[4/4] Creating pages...\u001b[0m\n",
      "[INFO] (1/3) Page 1\n",
      "[INFO] (2/3) Page 2\n",
      "[INFO] (3/3) Page 3\n",
      "[INFO] Terminated in 1.49s.\n"
     ]
    },
    {
     "name": "stdout",
     "output_type": "stream",
     "text": [
      "Conversion complete!\n"
     ]
    }
   ],
   "source": [
    "from pdf2docx import Converter\n",
    "pdf_file = \"JRBResume.pdf\"\n",
    "docx_file = \"CovertedJRBResume.docx\"\n",
    "cv = Converter(pdf_file)\n",
    "cv.convert()\n",
    "\n",
    "print(\"Conversion complete!\")"
   ]
  }
 ],
 "metadata": {
  "kernelspec": {
   "display_name": ".venv",
   "language": "python",
   "name": "python3"
  },
  "language_info": {
   "codemirror_mode": {
    "name": "ipython",
    "version": 3
   },
   "file_extension": ".py",
   "mimetype": "text/x-python",
   "name": "python",
   "nbconvert_exporter": "python",
   "pygments_lexer": "ipython3",
   "version": "3.12.1"
  }
 },
 "nbformat": 4,
 "nbformat_minor": 2
}
